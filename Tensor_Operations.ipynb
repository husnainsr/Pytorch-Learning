{
  "nbformat": 4,
  "nbformat_minor": 0,
  "metadata": {
    "colab": {
      "provenance": [],
      "authorship_tag": "ABX9TyNTP/Df5zvPBH6d2TAGWqk9",
      "include_colab_link": true
    },
    "kernelspec": {
      "name": "python3",
      "display_name": "Python 3"
    },
    "language_info": {
      "name": "python"
    }
  },
  "cells": [
    {
      "cell_type": "markdown",
      "metadata": {
        "id": "view-in-github",
        "colab_type": "text"
      },
      "source": [
        "<a href=\"https://colab.research.google.com/github/husnainsr/Pytorch-Learning/blob/main/Tensor_Operations.ipynb\" target=\"_parent\"><img src=\"https://colab.research.google.com/assets/colab-badge.svg\" alt=\"Open In Colab\"/></a>"
      ]
    },
    {
      "cell_type": "markdown",
      "source": [
        "# Agenda is to Learn and explore different operations in tensors"
      ],
      "metadata": {
        "id": "j6hVtwijWRnh"
      }
    },
    {
      "cell_type": "code",
      "execution_count": 1,
      "metadata": {
        "id": "IMW_l_CaWKqx"
      },
      "outputs": [],
      "source": [
        "import torch\n"
      ]
    },
    {
      "cell_type": "markdown",
      "source": [],
      "metadata": {
        "id": "Wj2swiHVWQrt"
      }
    },
    {
      "cell_type": "code",
      "source": [
        "my_torch = torch.arange(10)\n",
        "my_torch"
      ],
      "metadata": {
        "colab": {
          "base_uri": "https://localhost:8080/"
        },
        "id": "utx57zOtWQGv",
        "outputId": "926cba92-faf7-48b5-d11d-2eb9cb15931f"
      },
      "execution_count": 5,
      "outputs": [
        {
          "output_type": "execute_result",
          "data": {
            "text/plain": [
              "tensor([0, 1, 2, 3, 4, 5, 6, 7, 8, 9])"
            ]
          },
          "metadata": {},
          "execution_count": 5
        }
      ]
    },
    {
      "cell_type": "markdown",
      "source": [
        "## Reshape and View"
      ],
      "metadata": {
        "id": "tZKQmkIxXkIY"
      }
    },
    {
      "cell_type": "code",
      "source": [
        "# What if we want reshape the tensor? Well we can do that in tensor\n",
        "# from 1D 10 to 2,5\n",
        "## Note we cannot change it beyond the size if we multiply rows x cols it should be equal to the 1D tensor size\n",
        "my_torch = my_torch.reshape(2,5)\n",
        "print(my_torch)"
      ],
      "metadata": {
        "colab": {
          "base_uri": "https://localhost:8080/"
        },
        "id": "GIoWAj2iWO_U",
        "outputId": "a8c405a6-8fd7-47e0-dee4-46d60dc1554d"
      },
      "execution_count": 6,
      "outputs": [
        {
          "output_type": "stream",
          "name": "stdout",
          "text": [
            "tensor([[0, 1, 2, 3, 4],\n",
            "        [5, 6, 7, 8, 9]])\n"
          ]
        }
      ]
    },
    {
      "cell_type": "code",
      "source": [
        "# lets say we do not know the size of our 1D tensor then we can use -1\n",
        "second_torch = torch.arange(10)\n",
        "print(second_torch)\n",
        "\n",
        "# the first parameter should be divisible by the 1D tensor size otherwise it will give error\n",
        "second_torch = second_torch.reshape(5,-1)\n",
        "print(second_torch)"
      ],
      "metadata": {
        "colab": {
          "base_uri": "https://localhost:8080/"
        },
        "id": "ZzEuk5CgXxqW",
        "outputId": "62922564-4fbe-4abd-f3e8-1154889135ac"
      },
      "execution_count": 9,
      "outputs": [
        {
          "output_type": "stream",
          "name": "stdout",
          "text": [
            "tensor([0, 1, 2, 3, 4, 5, 6, 7, 8, 9])\n",
            "tensor([[0, 1],\n",
            "        [2, 3],\n",
            "        [4, 5],\n",
            "        [6, 7],\n",
            "        [8, 9]])\n"
          ]
        }
      ]
    },
    {
      "cell_type": "markdown",
      "source": [
        "## View is similar to Reshape\n",
        "### Then whats the difference?\n",
        "Well view shares the same underline data which means if is change the view data it will also changed the previous tensor to whom it is origniated where as reshape does not do this it creates a seperate copy\n"
      ],
      "metadata": {
        "id": "rF1b3zhSZNy1"
      }
    },
    {
      "cell_type": "code",
      "source": [
        "simple_tensor = torch.arange(6)\n",
        "print(simple_tensor)"
      ],
      "metadata": {
        "colab": {
          "base_uri": "https://localhost:8080/"
        },
        "id": "92wP58QjYdlI",
        "outputId": "61be53df-c717-4bcc-df66-1d2a2fa98e83"
      },
      "execution_count": 14,
      "outputs": [
        {
          "output_type": "stream",
          "name": "stdout",
          "text": [
            "tensor([0, 1, 2, 3, 4, 5])\n"
          ]
        }
      ]
    },
    {
      "cell_type": "code",
      "source": [
        "view_tensor = simple_tensor.view(2,3)\n",
        "print(view_tensor)"
      ],
      "metadata": {
        "colab": {
          "base_uri": "https://localhost:8080/"
        },
        "id": "E10aZa1mZrBJ",
        "outputId": "5a980586-b6d9-4760-9654-ec5668640da2"
      },
      "execution_count": 16,
      "outputs": [
        {
          "output_type": "stream",
          "name": "stdout",
          "text": [
            "tensor([[0, 1, 2],\n",
            "        [3, 4, 5]])\n"
          ]
        }
      ]
    },
    {
      "cell_type": "markdown",
      "source": [
        "Now if i changed the simple_view it will also changed the simple_tesnor lets try this out"
      ],
      "metadata": {
        "id": "YEIqXmxxZ89J"
      }
    },
    {
      "cell_type": "code",
      "source": [
        "view_tensor[0][0]=100\n",
        "print(\"View tensor after Modifying\")\n",
        "print(view_tensor)\n",
        "\n",
        "print(\"Orignal tensor\")\n",
        "print(simple_tensor)"
      ],
      "metadata": {
        "colab": {
          "base_uri": "https://localhost:8080/"
        },
        "id": "od7lqVglZ8pz",
        "outputId": "d1534262-6ee9-418d-a9a5-d4452b591785"
      },
      "execution_count": 20,
      "outputs": [
        {
          "output_type": "stream",
          "name": "stdout",
          "text": [
            "View tensor after Modifying\n",
            "tensor([[100,   1,   2],\n",
            "        [  3,   4,   5]])\n",
            "Orignal tensor\n",
            "tensor([100,   1,   2,   3,   4,   5])\n"
          ]
        }
      ]
    },
    {
      "cell_type": "markdown",
      "source": [
        "# Lets explore Slice now"
      ],
      "metadata": {
        "id": "6lojpuNtdjvQ"
      }
    },
    {
      "cell_type": "code",
      "source": [
        "my_tensor = torch.arange(10)\n",
        "my_tensor"
      ],
      "metadata": {
        "colab": {
          "base_uri": "https://localhost:8080/"
        },
        "id": "ia2_iSW-Z7dY",
        "outputId": "fdf6b18b-2a1d-4b61-db43-1bcd83d0139a"
      },
      "execution_count": 23,
      "outputs": [
        {
          "output_type": "execute_result",
          "data": {
            "text/plain": [
              "tensor([0, 1, 2, 3, 4, 5, 6, 7, 8, 9])"
            ]
          },
          "metadata": {},
          "execution_count": 23
        }
      ]
    },
    {
      "cell_type": "code",
      "source": [
        "my_tensor[7]"
      ],
      "metadata": {
        "colab": {
          "base_uri": "https://localhost:8080/"
        },
        "id": "QfJbNhUUdrP2",
        "outputId": "fac6a055-f8ec-4de3-c04f-72c1c755c814"
      },
      "execution_count": 24,
      "outputs": [
        {
          "output_type": "execute_result",
          "data": {
            "text/plain": [
              "tensor(7)"
            ]
          },
          "metadata": {},
          "execution_count": 24
        }
      ]
    },
    {
      "cell_type": "code",
      "source": [
        "# what if i want a small portion basically its works the same way as it works in normal python\n",
        "my_tensor[2:5]"
      ],
      "metadata": {
        "colab": {
          "base_uri": "https://localhost:8080/"
        },
        "id": "G8sw9Iu_dusG",
        "outputId": "2c553510-25d4-4470-a99c-5641d35e061c"
      },
      "execution_count": 26,
      "outputs": [
        {
          "output_type": "execute_result",
          "data": {
            "text/plain": [
              "tensor([2, 3, 4])"
            ]
          },
          "metadata": {},
          "execution_count": 26
        }
      ]
    },
    {
      "cell_type": "code",
      "source": [
        "#lets make it more complicated\n",
        "\n",
        "t2 = my_tensor.reshape(5,2)\n",
        "print(t2)\n",
        "\n",
        "#lets say i want the last element in each tensor\n",
        "print(t2[:,1])\n",
        "\n",
        "#notice how it converted it into 1D tensor lets say i want to keep the same way\n",
        "print(t2[:,1:])"
      ],
      "metadata": {
        "colab": {
          "base_uri": "https://localhost:8080/"
        },
        "id": "bd4BTX5Pd480",
        "outputId": "e6d4ac9e-cd2d-4ea7-f200-7a43c71868d1"
      },
      "execution_count": 30,
      "outputs": [
        {
          "output_type": "stream",
          "name": "stdout",
          "text": [
            "tensor([[0, 1],\n",
            "        [2, 3],\n",
            "        [4, 5],\n",
            "        [6, 7],\n",
            "        [8, 9]])\n",
            "tensor([1, 3, 5, 7, 9])\n",
            "tensor([[1],\n",
            "        [3],\n",
            "        [5],\n",
            "        [7],\n",
            "        [9]])\n"
          ]
        }
      ]
    },
    {
      "cell_type": "code",
      "source": [],
      "metadata": {
        "id": "9z0WlVjqeDcN"
      },
      "execution_count": null,
      "outputs": []
    }
  ]
}