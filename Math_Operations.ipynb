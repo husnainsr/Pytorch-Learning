{
  "nbformat": 4,
  "nbformat_minor": 0,
  "metadata": {
    "colab": {
      "provenance": [],
      "authorship_tag": "ABX9TyPrGK52ZuAlPsr/dwBMc0E2",
      "include_colab_link": true
    },
    "kernelspec": {
      "name": "python3",
      "display_name": "Python 3"
    },
    "language_info": {
      "name": "python"
    }
  },
  "cells": [
    {
      "cell_type": "markdown",
      "metadata": {
        "id": "view-in-github",
        "colab_type": "text"
      },
      "source": [
        "<a href=\"https://colab.research.google.com/github/husnainsr/Pytorch-Learning/blob/main/Math_Operations.ipynb\" target=\"_parent\"><img src=\"https://colab.research.google.com/assets/colab-badge.svg\" alt=\"Open In Colab\"/></a>"
      ]
    },
    {
      "cell_type": "code",
      "execution_count": 2,
      "metadata": {
        "id": "t0o0GBLEe_J-"
      },
      "outputs": [],
      "source": [
        "import torch\n",
        "import numpy as np"
      ]
    },
    {
      "cell_type": "code",
      "source": [
        "t1 = torch.tensor([1,2,3,4,5,6])\n",
        "t2 = torch.tensor([1,1,1,1,1,1])\n",
        "t3 = torch.tensor([2,2,2,2,2,2])"
      ],
      "metadata": {
        "id": "DDG6GVBtfDlp"
      },
      "execution_count": 9,
      "outputs": []
    },
    {
      "cell_type": "code",
      "source": [
        "# Simple Add in two ways\n",
        "print(\"Addition\")\n",
        "print(t1+t2)\n",
        "print(torch.add(t1,t2))\n",
        "print(t1.add(t2))\n",
        "\n",
        "print(\"Subtraction\")\n",
        "print(t1-t2)\n",
        "print(torch.subtract(t1,t2))\n",
        "print(t1.subtract(t2))\n"
      ],
      "metadata": {
        "colab": {
          "base_uri": "https://localhost:8080/"
        },
        "id": "pjn8IJqof4SF",
        "outputId": "e42bb6b7-1272-4a2f-c753-1bcb8f5cc379"
      },
      "execution_count": 23,
      "outputs": [
        {
          "output_type": "stream",
          "name": "stdout",
          "text": [
            "Addition\n",
            "tensor([2, 3, 4, 5, 6, 7])\n",
            "tensor([2, 3, 4, 5, 6, 7])\n",
            "tensor([2, 3, 4, 5, 6, 7])\n",
            "Subtraction\n",
            "tensor([0, 1, 2, 3, 4, 5])\n",
            "tensor([0, 1, 2, 3, 4, 5])\n",
            "tensor([0, 1, 2, 3, 4, 5])\n"
          ]
        }
      ]
    },
    {
      "cell_type": "code",
      "source": [
        "#Multiplication with each value\n",
        "print(t1*t3)\n",
        "print(torch.mul(t1,t3))\n",
        "print(t1.mul(t3))"
      ],
      "metadata": {
        "colab": {
          "base_uri": "https://localhost:8080/"
        },
        "id": "qoHv4-BYgDyU",
        "outputId": "5d85f893-ce72-423f-8e57-e27c74edf11e"
      },
      "execution_count": 24,
      "outputs": [
        {
          "output_type": "stream",
          "name": "stdout",
          "text": [
            "tensor([ 2,  4,  6,  8, 10, 12])\n",
            "tensor([ 2,  4,  6,  8, 10, 12])\n",
            "tensor([ 2,  4,  6,  8, 10, 12])\n"
          ]
        }
      ]
    },
    {
      "cell_type": "code",
      "source": [
        "#Divison\n",
        "print(t1/t3)\n",
        "print(torch.divide(t1,t3))"
      ],
      "metadata": {
        "colab": {
          "base_uri": "https://localhost:8080/"
        },
        "id": "q17h0x5NgvQ_",
        "outputId": "f44887c9-92ab-465a-ee16-81aeeaa8d65b"
      },
      "execution_count": 14,
      "outputs": [
        {
          "output_type": "stream",
          "name": "stdout",
          "text": [
            "tensor([0.5000, 1.0000, 1.5000, 2.0000, 2.5000, 3.0000])\n",
            "tensor([0.5000, 1.0000, 1.5000, 2.0000, 2.5000, 3.0000])\n"
          ]
        }
      ]
    },
    {
      "cell_type": "code",
      "source": [
        "#Modulus\n",
        "print(t1%t3)\n",
        "\n",
        "#or we can use remainder function it is the same thing\n",
        "print(torch.remainder(t1,t3))"
      ],
      "metadata": {
        "colab": {
          "base_uri": "https://localhost:8080/"
        },
        "id": "2U524swqhMjT",
        "outputId": "95d9c6c1-7f1a-44fe-ffe5-35000b6c7cc2"
      },
      "execution_count": 18,
      "outputs": [
        {
          "output_type": "stream",
          "name": "stdout",
          "text": [
            "tensor([1, 0, 1, 0, 1, 0])\n",
            "tensor([1, 0, 1, 0, 1, 0])\n"
          ]
        }
      ]
    },
    {
      "cell_type": "code",
      "source": [
        "#Exponents or Powers\n",
        "print(t1 **t3)\n",
        "print(torch.pow(t1,t3))\n"
      ],
      "metadata": {
        "colab": {
          "base_uri": "https://localhost:8080/"
        },
        "id": "S-ponXXohXWg",
        "outputId": "028e3e2b-b3e4-42cd-ffc8-15a49664a7b5"
      },
      "execution_count": 22,
      "outputs": [
        {
          "output_type": "stream",
          "name": "stdout",
          "text": [
            "tensor([ 1,  4,  9, 16, 25, 36])\n",
            "tensor([ 1,  4,  9, 16, 25, 36])\n"
          ]
        }
      ]
    },
    {
      "cell_type": "code",
      "source": [
        "#there are two ways to assign the tensor value basic way\n",
        "# t1 = t1 + t2\n",
        "# or we can use \"_\" to assign the value\n",
        "\n",
        "print(t1.add_(t2))"
      ],
      "metadata": {
        "colab": {
          "base_uri": "https://localhost:8080/"
        },
        "id": "blyPm3XohvBO",
        "outputId": "e5121558-c0b9-4572-f628-a1932db132af"
      },
      "execution_count": 26,
      "outputs": [
        {
          "output_type": "stream",
          "name": "stdout",
          "text": [
            "tensor([2, 3, 4, 5, 6, 7])\n"
          ]
        }
      ]
    },
    {
      "cell_type": "code",
      "source": [],
      "metadata": {
        "id": "ZNkL9RUdiY9j"
      },
      "execution_count": null,
      "outputs": []
    }
  ]
}