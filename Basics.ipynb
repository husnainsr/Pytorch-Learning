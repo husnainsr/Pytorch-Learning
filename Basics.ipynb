{
  "nbformat": 4,
  "nbformat_minor": 0,
  "metadata": {
    "colab": {
      "provenance": [],
      "authorship_tag": "ABX9TyObMhJIGp6yEt6zdGrD9uFs",
      "include_colab_link": true
    },
    "kernelspec": {
      "name": "python3",
      "display_name": "Python 3"
    },
    "language_info": {
      "name": "python"
    }
  },
  "cells": [
    {
      "cell_type": "markdown",
      "metadata": {
        "id": "view-in-github",
        "colab_type": "text"
      },
      "source": [
        "<a href=\"https://colab.research.google.com/github/husnainsr/Pytorch-Learning/blob/main/Basics.ipynb\" target=\"_parent\"><img src=\"https://colab.research.google.com/assets/colab-badge.svg\" alt=\"Open In Colab\"/></a>"
      ]
    },
    {
      "cell_type": "markdown",
      "source": [
        "**Goal is to learn Basics of Pytorch**\n",
        "\n",
        "\n",
        "*   Types\n",
        "*   Operations\n",
        "\n"
      ],
      "metadata": {
        "id": "M2Hk-Q4pQL7u"
      }
    },
    {
      "cell_type": "code",
      "source": [
        "import torch\n",
        "import numpy as np"
      ],
      "metadata": {
        "id": "zDq_ijs0QLfB"
      },
      "execution_count": 3,
      "outputs": []
    },
    {
      "cell_type": "markdown",
      "source": [
        "# How simple List works in python\n"
      ],
      "metadata": {
        "id": "o2lyI6s1QrMh"
      }
    },
    {
      "cell_type": "code",
      "execution_count": 11,
      "metadata": {
        "colab": {
          "base_uri": "https://localhost:8080/"
        },
        "id": "3aA0-DORPuDq",
        "outputId": "06122851-452f-486e-a7b2-c250c62bb7f5"
      },
      "outputs": [
        {
          "output_type": "stream",
          "name": "stdout",
          "text": [
            "[1, 22, 34, 12, 14, 15, 15]\n"
          ]
        }
      ],
      "source": [
        "my_list = [1,22,34,12,14,15,15]\n",
        "print(my_list)"
      ]
    },
    {
      "cell_type": "markdown",
      "source": [
        "# How List works in Numpy"
      ],
      "metadata": {
        "id": "fHpHjd4LQLBv"
      }
    },
    {
      "cell_type": "code",
      "source": [
        "#Lets create a random array\n",
        "\n",
        "my_list = np.random.rand(4)\n",
        "print(my_list)\n",
        "\n",
        "# moving on to 2D list\n",
        "#r and c\n",
        "my_list = np.random.rand(4,3)\n",
        "print(my_list)\n",
        "\n",
        "# by default numpy stores float64\n",
        "print(my_list.dtype)\n",
        "\n"
      ],
      "metadata": {
        "colab": {
          "base_uri": "https://localhost:8080/"
        },
        "id": "j10buJHcQKJh",
        "outputId": "4c0feff6-5957-4cff-c43a-f8999514e6cd"
      },
      "execution_count": 13,
      "outputs": [
        {
          "output_type": "stream",
          "name": "stdout",
          "text": [
            "[0.9265576  0.57442202 0.67186719 0.54178361]\n",
            "[[0.7993339  0.82170648 0.4084114 ]\n",
            " [0.63002051 0.16240619 0.44093258]\n",
            " [0.13998578 0.09457141 0.20602732]\n",
            " [0.58564028 0.53892969 0.7787529 ]]\n",
            "float64\n"
          ]
        }
      ]
    },
    {
      "cell_type": "markdown",
      "source": [
        "# Lets see How tesnors works"
      ],
      "metadata": {
        "id": "ASwqXCEvR7jt"
      }
    },
    {
      "cell_type": "code",
      "source": [
        "#lets create simple 1d tensor\n",
        "my_list = torch.randn(4)\n",
        "print(my_list)\n",
        "\n",
        "#2d tensor\n",
        "my_list = torch.randn(4,3)\n",
        "print(my_list)\n",
        "\n",
        "# by default tensor stores float32\n",
        "print(my_list.dtype)"
      ],
      "metadata": {
        "colab": {
          "base_uri": "https://localhost:8080/"
        },
        "id": "TaYKwwcoRVT_",
        "outputId": "bc1b3409-c848-40e6-f75e-463b9b7804c8"
      },
      "execution_count": 18,
      "outputs": [
        {
          "output_type": "stream",
          "name": "stdout",
          "text": [
            "tensor([-1.3462, -0.0127,  0.6361, -1.0858])\n",
            "tensor([[ 2.3158, -1.3088, -1.1111],\n",
            "        [-0.3252, -1.1304, -0.1450],\n",
            "        [-0.1310, -0.1186, -0.5844],\n",
            "        [-0.4809,  0.1591, -0.3992]])\n",
            "torch.float32\n"
          ]
        }
      ]
    },
    {
      "cell_type": "code",
      "source": [
        "# what about 3D tensors? Lets give it a try\n",
        "# Number of matrix then rows and then columns\n",
        "list_3D= torch.randn(2,4,3)\n",
        "print(list_3D)"
      ],
      "metadata": {
        "colab": {
          "base_uri": "https://localhost:8080/"
        },
        "id": "HOQMpztISHq7",
        "outputId": "89b18fdc-4bec-4027-933a-1ac5f208d940"
      },
      "execution_count": 20,
      "outputs": [
        {
          "output_type": "stream",
          "name": "stdout",
          "text": [
            "tensor([[[ 0.6474,  2.4481, -0.2953],\n",
            "         [ 1.2528, -0.1849,  1.2597],\n",
            "         [-0.6689, -0.7217, -0.0068],\n",
            "         [ 0.3288,  0.4718, -0.2877]],\n",
            "\n",
            "        [[ 0.7891,  0.9494,  0.8459],\n",
            "         [-0.5934,  0.1285, -0.5021],\n",
            "         [ 0.0660, -0.4156, -0.8699],\n",
            "         [ 0.2717,  0.6079, -0.6541]]])\n"
          ]
        }
      ]
    },
    {
      "cell_type": "markdown",
      "source": [
        "## Tensors with Numpy"
      ],
      "metadata": {
        "id": "PSjHvFQ1TChI"
      }
    },
    {
      "cell_type": "code",
      "source": [
        "# Can we create tensors out of numpy?\n",
        "np1 = np.random.rand(4,3)\n",
        "print(\"Numpy Array\")\n",
        "print(np1)\n",
        "\n",
        "#Notice how numpy uses default float64 and when we converted to tensors it remains the default dtype\n",
        "tensor1= torch.tensor(np1)\n",
        "print(\"Tensor Array\")\n",
        "print(tensor1)"
      ],
      "metadata": {
        "colab": {
          "base_uri": "https://localhost:8080/"
        },
        "id": "pEeVdCPKSvZb",
        "outputId": "37a1df3e-0b49-4733-e25c-5ea22708295c"
      },
      "execution_count": 26,
      "outputs": [
        {
          "output_type": "stream",
          "name": "stdout",
          "text": [
            "Numpy Array\n",
            "[[0.28481391 0.78300792 0.06390192]\n",
            " [0.60295664 0.41884119 0.42766781]\n",
            " [0.02865075 0.86757039 0.47959685]\n",
            " [0.14255954 0.38366281 0.25611061]]\n",
            "Tensor Array\n",
            "tensor([[0.2848, 0.7830, 0.0639],\n",
            "        [0.6030, 0.4188, 0.4277],\n",
            "        [0.0287, 0.8676, 0.4796],\n",
            "        [0.1426, 0.3837, 0.2561]], dtype=torch.float64)\n"
          ]
        }
      ]
    },
    {
      "cell_type": "markdown",
      "source": [],
      "metadata": {
        "id": "qHO7Oi6WTBe9"
      }
    },
    {
      "cell_type": "code",
      "source": [],
      "metadata": {
        "id": "tgyXAoIkTBDw"
      },
      "execution_count": null,
      "outputs": []
    }
  ]
}